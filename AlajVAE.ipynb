{
  "nbformat": 4,
  "nbformat_minor": 0,
  "metadata": {
    "colab": {
      "provenance": []
    },
    "kernelspec": {
      "name": "python3",
      "display_name": "Python 3"
    },
    "language_info": {
      "name": "python"
    },
    "accelerator": "GPU"
  },
  "cells": [
    {
      "cell_type": "markdown",
      "metadata": {
        "id": "G9gZnTs1qofi"
      },
      "source": [
        "## Google Colab Integration"
      ]
    },
    {
      "cell_type": "code",
      "metadata": {
        "id": "s_KS2JEJ4uhl",
        "colab": {
          "base_uri": "https://localhost:8080/"
        },
        "outputId": "d517c89d-4493-4d15-9e17-6187956ca144"
      },
      "source": [
        "from google.colab import drive\n",
        "drive.mount('/content/gdrive')"
      ],
      "execution_count": null,
      "outputs": [
        {
          "output_type": "stream",
          "name": "stdout",
          "text": [
            "Mounted at /content/gdrive\n"
          ]
        }
      ]
    },
    {
      "cell_type": "markdown",
      "metadata": {
        "id": "998B7N6Tq0Se"
      },
      "source": [
        "## Prerequisites"
      ]
    },
    {
      "cell_type": "code",
      "metadata": {
        "id": "RQVgUham5MXb"
      },
      "source": [
        "# Utils\n",
        "import datetime\n",
        "import math\n",
        "import matplotlib.pyplot as plt\n",
        "import numpy as np\n",
        "import networkx as nx\n",
        "import os\n",
        "import pandas as pd\n",
        "from random import randint\n",
        "import scipy as sp\n",
        "from scipy import optimize\n",
        "from scipy.sparse.csgraph import connected_components\n",
        "import time\n",
        "\n",
        "# PyTorch\n",
        "import torch\n",
        "import torch.nn as nn\n",
        "from torch import Tensor\n",
        "import torch.nn.init as init\n",
        "import torch.nn.functional as F\n",
        "from torch.nn.parameter import Parameter\n",
        "from torch.nn.modules.module import Module\n",
        "from torch.utils.tensorboard import SummaryWriter"
      ],
      "execution_count": null,
      "outputs": []
    },
    {
      "cell_type": "markdown",
      "metadata": {
        "id": "wb4WR7LWrTat"
      },
      "source": [
        "Checking GPU availability"
      ]
    },
    {
      "cell_type": "code",
      "metadata": {
        "id": "2mJEIb9K5NvU"
      },
      "source": [
        "if torch.cuda.is_available():\n",
        "    torch.device('cuda')"
      ],
      "execution_count": null,
      "outputs": []
    },
    {
      "cell_type": "markdown",
      "metadata": {
        "id": "2wJMJbqW5XqN"
      },
      "source": [
        "# 1) Utils\n",
        "\n",
        "All of the required functions to facilitate our future endeavours."
      ]
    },
    {
      "cell_type": "markdown",
      "metadata": {
        "id": "Xc9pronPGiHI"
      },
      "source": [
        "## Data Loader"
      ]
    },
    {
      "cell_type": "code",
      "metadata": {
        "id": "B3fe0dtg5RWJ"
      },
      "source": [
        "def Graph_load_batch(min_num_nodes=20, max_num_nodes=1000, name='ENZYMES', node_attributes=True, graph_labels=True):\n",
        "    '''\n",
        "    Loads many graphs, e.g. ENZYMES.\n",
        "    :return: a list of graphs\n",
        "    '''\n",
        "\n",
        "    print('Loading graph dataset: ' + str(name))\n",
        "    G = nx.Graph()\n",
        "\n",
        "    # Loading the data from file\n",
        "\n",
        "    path = '/content/gdrive/My Drive/' + name + '/'\n",
        "    data_adj = np.loadtxt(path + name + '_A.txt', delimiter=',').astype(int)\n",
        "\n",
        "    if node_attributes:\n",
        "        data_node_att = np.loadtxt(path + name + '_node_attributes.txt', delimiter=',')\n",
        "\n",
        "    data_node_label = np.loadtxt(path + name + '_node_labels.txt', delimiter=',').astype(int)\n",
        "    data_graph_indicator = np.loadtxt(path + name + '_graph_indicator.txt', delimiter=',').astype(int)\n",
        "\n",
        "    if graph_labels:\n",
        "        data_graph_labels = np.loadtxt(path + name + '_graph_labels.txt', delimiter=',').astype(int)\n",
        "\n",
        "    data_tuple = list(map(tuple, data_adj))\n",
        "    G.add_edges_from(data_tuple)\n",
        "\n",
        "    for i in range(data_node_label.shape[0]):\n",
        "        if node_attributes:\n",
        "            G.add_node(i + 1, feature=data_node_att[i])\n",
        "        G.add_node(i + 1, label=data_node_label[i])\n",
        "    G.remove_nodes_from(list(nx.isolates(G)))\n",
        "\n",
        "    graph_num = data_graph_indicator.max()\n",
        "    node_list = np.arange(data_graph_indicator.shape[0]) + 1\n",
        "\n",
        "    graphs = []\n",
        "    max_nodes = 0\n",
        "\n",
        "    for i in range(graph_num):\n",
        "        nodes = node_list[data_graph_indicator == i + 1]\n",
        "        G_sub = G.subgraph(nodes)\n",
        "        if graph_labels:\n",
        "            G_sub.graph['label'] = data_graph_labels[i]\n",
        "\n",
        "        if G_sub.number_of_nodes() >= min_num_nodes and G_sub.number_of_nodes() <= max_num_nodes:\n",
        "            graphs.append(G_sub)\n",
        "            if G_sub.number_of_nodes() > max_nodes:\n",
        "                max_nodes = G_sub.number_of_nodes()\n",
        "\n",
        "    print(f'Data ({len(graphs)} entries) loaded successfully.')\n",
        "    return graphs"
      ],
      "execution_count": null,
      "outputs": []
    },
    {
      "cell_type": "markdown",
      "metadata": {
        "id": "fYXgDG37Gl_V"
      },
      "source": [
        "## Graph Matrices"
      ]
    },
    {
      "cell_type": "code",
      "metadata": {
        "id": "mUSKTvfD7Ueq"
      },
      "source": [
        "## TODO: input number of features\n",
        "def feature_matrix(g, max_nodes):\n",
        "    features = nx.get_node_attributes(g, 'label')\n",
        "    mat_rep = np.zeros((max_nodes, 3))\n",
        "    for i, (k, v) in enumerate(features.items()):\n",
        "        mat_rep[i][v - 1] = 1\n",
        "    return mat_rep"
      ],
      "execution_count": null,
      "outputs": []
    },
    {
      "cell_type": "code",
      "metadata": {
        "id": "yLI_OmSsxXli"
      },
      "source": [
        "def adjacency_matrix(graph, max_size, min_size):\n",
        "    '''\n",
        "    Gets a graph as an input\n",
        "    :return: graph's feautre matrix and padded adjacency matrix\n",
        "    '''\n",
        "    if len(graph.nodes()) > max_size or len(graph.nodes()) < min_size:\n",
        "        return None\n",
        "    adj = nx.to_numpy_matrix(graph)\n",
        "    graph_length = len(graph)\n",
        "    padded_adj = np.pad(adj, [(0, max_size - graph_length), (0, max_size - graph_length)])\n",
        "    return padded_adj"
      ],
      "execution_count": null,
      "outputs": []
    },
    {
      "cell_type": "code",
      "metadata": {
        "id": "nsq3ZsAR2_Pv"
      },
      "source": [
        "def recover_adj(x, max_nodes):\n",
        "    adj = torch.zeros(max_nodes, max_nodes).cuda()\n",
        "    adj[torch.triu(torch.ones(max_nodes, max_nodes)) == 1] = x\n",
        "    diag = torch.diag(torch.diag(adj, 0))\n",
        "    recovered = adj + torch.transpose(adj, 0, 1) - diag\n",
        "    return recovered"
      ],
      "execution_count": null,
      "outputs": []
    },
    {
      "cell_type": "markdown",
      "metadata": {
        "id": "jF-Cl7jIGrst"
      },
      "source": [
        "## Synthetic Graph Generators\n",
        "\n"
      ]
    },
    {
      "cell_type": "code",
      "metadata": {
        "id": "dF2Mv6vJNtCn"
      },
      "source": [
        "# def generate_random_graph(min_num_nodes=10, max_num_nodes=25, graph_type='random', directed=False, seed=123456, **kwargs):\n",
        "#     if graph_type == 'random':\n",
        "#         G = nx.gnp_random_graph(randint(min_num_nodes, max_num_nodes), kwargs['p1'], seed=seed, directed=directed)\n",
        "#     elif graph_type == 'erdos_renyi':\n",
        "#         G = nx.erdos_renyi_graph(randint(min_num_nodes, max_num_nodes), kwargs['p1'], seed=seed, directed=directed)\n",
        "#     elif graph_type == 'lobster':\n",
        "#         G = nx.random_lobster(randint(min_num_nodes, max_num_nodes), kwargs['p1'], kwargs['p2'], seed=seed)\n",
        "#     elif graph_type == 'barabasi_albert':\n",
        "#         G = nx.barabasi_albert_graph(randint(min_num_nodes, max_num_nodes), kwargs['barabasi_m'], seed=seed)\n",
        "\n",
        "#     return G"
      ],
      "execution_count": null,
      "outputs": []
    },
    {
      "cell_type": "markdown",
      "metadata": {
        "id": "QnHLLs9mG12K"
      },
      "source": [
        "## Graph Display Tool"
      ]
    },
    {
      "cell_type": "code",
      "metadata": {
        "id": "8Ni5RjA1QRvw"
      },
      "source": [
        "def show_graph(model):\n",
        "    reconstruct = model.generate()\n",
        "    nx.draw(nx.from_numpy_matrix(np.rint(reconstruct.cpu().numpy())))\n",
        "    plt.show()"
      ],
      "execution_count": null,
      "outputs": []
    },
    {
      "cell_type": "code",
      "metadata": {
        "id": "-AZhSWd5O7OH"
      },
      "source": [
        "# nx.draw(generate_random_graph(graph_type='lobster', p1=.1, p2=.05))"
      ],
      "execution_count": null,
      "outputs": []
    },
    {
      "cell_type": "code",
      "metadata": {
        "id": "qupHQxBW7UcG",
        "colab": {
          "base_uri": "https://localhost:8080/"
        },
        "outputId": "50b2e3eb-9e18-4d10-d02c-aa32d24d10da"
      },
      "source": [
        "graphs = Graph_load_batch(min_num_nodes=10, name='ENZYMES')"
      ],
      "execution_count": null,
      "outputs": [
        {
          "output_type": "stream",
          "name": "stdout",
          "text": [
            "Loading graph dataset: ENZYMES\n",
            "Data (587 entries) loaded successfully.\n"
          ]
        }
      ]
    },
    {
      "cell_type": "code",
      "metadata": {
        "id": "YyzSy1287UWA",
        "colab": {
          "base_uri": "https://localhost:8080/",
          "height": 319
        },
        "outputId": "0532b9d4-ad51-4ec7-95b8-a48c66be67eb"
      },
      "source": [
        "nx.draw(graphs[0])"
      ],
      "execution_count": null,
      "outputs": [
        {
          "output_type": "display_data",
          "data": {
            "image/png": "[encoded data removed]",
            "text/plain": [
              "<Figure size 432x288 with 1 Axes>"
            ]
          },
          "metadata": {}
        }
      ]
    },
    {
      "cell_type": "markdown",
      "metadata": {
        "id": "I8MKiDrD47CZ"
      },
      "source": [
        "## Statistics Computing Functions\n",
        "Function defenitions for computing several key graph attributes."
      ]
    },
    {
      "cell_type": "code",
      "metadata": {
        "id": "aoj4qsOU4ouZ"
      },
      "source": [
        "def statistics_LCC(A_in):\n",
        "    '''\n",
        "    Compute the size of the largest connected component (LCC)\n",
        "\n",
        "    Parameters\n",
        "    ----------\n",
        "    A_in: sparse matrix or np.array\n",
        "          The input adjacency matrix.\n",
        "    Returns\n",
        "    -------\n",
        "    Size of LCC\n",
        "\n",
        "    '''\n",
        "    unique, counts = np.unique(connected_components(A_in)[1], return_counts=True)\n",
        "    LCC = np.where(connected_components(A_in)[1] == np.argmax(counts))[0]\n",
        "    return LCC"
      ],
      "execution_count": null,
      "outputs": []
    },
    {
      "cell_type": "code",
      "metadata": {
        "id": "0Aqg18ah5bIY"
      },
      "source": [
        "def statistics_degrees(A_in):\n",
        "    '''\n",
        "    Compute min, max, mean degree\n",
        "\n",
        "    Parameters\n",
        "    ----------\n",
        "    A_in: sparse matrix or np.array\n",
        "          The input adjacency matrix.\n",
        "    Returns\n",
        "    -------\n",
        "    d_max. d_min, d_mean\n",
        "    '''\n",
        "\n",
        "    degrees = A_in.sum(axis=0)\n",
        "    return np.max(degrees), np.min(degrees), np.mean(degrees)"
      ],
      "execution_count": null,
      "outputs": []
    },
    {
      "cell_type": "code",
      "metadata": {
        "id": "1DnreleC5kcQ"
      },
      "source": [
        "def statistics_wedge_count(A_in):\n",
        "    '''\n",
        "    Compute the wedge count of the input graph\n",
        "\n",
        "    Parameters\n",
        "    ----------\n",
        "    A_in: sparse matrix or np.array\n",
        "          The input adjacency matrix.\n",
        "\n",
        "    Returns\n",
        "    -------\n",
        "    The wedge count.\n",
        "    '''\n",
        "\n",
        "    degrees = A_in.sum(axis=0).flatten()\n",
        "    return float(np.sum(np.array([0.5 * x * (x - 1) for x in degrees])))"
      ],
      "execution_count": null,
      "outputs": []
    },
    {
      "cell_type": "code",
      "metadata": {
        "id": "7eTpOe_05zO4"
      },
      "source": [
        "def statistics_claw_count(A_in):\n",
        "    '''\n",
        "    Compute the claw count of the input graph\n",
        "\n",
        "    Parameters\n",
        "    ----------\n",
        "    A_in: sparse matrix or np.array\n",
        "          The input adjacency matrix.\n",
        "\n",
        "    Returns\n",
        "    -------\n",
        "    Claw count\n",
        "    '''\n",
        "\n",
        "    degrees = A_in.sum(axis=0).flatten()\n",
        "    return float(np.sum(np.array([1 / 6. * x * (x - 1) * (x - 2) for x in degrees])))"
      ],
      "execution_count": null,
      "outputs": []
    },
    {
      "cell_type": "code",
      "metadata": {
        "id": "HeXvyi2Y57VX"
      },
      "source": [
        "def statistics_triangle_count(A_in):\n",
        "    '''\n",
        "    Compute the triangle count of the input graph\n",
        "\n",
        "    Parameters\n",
        "    ----------\n",
        "    A_in: sparse matrix or np.array\n",
        "          The input adjacency matrix.\n",
        "    Returns\n",
        "    -------\n",
        "    Triangle count\n",
        "    '''\n",
        "\n",
        "    A_graph = nx.from_numpy_matrix(A_in)\n",
        "    triangles = nx.triangles(A_graph)\n",
        "    t = np.sum(list(triangles.values())) / 3\n",
        "    return int(t)"
      ],
      "execution_count": null,
      "outputs": []
    },
    {
      "cell_type": "code",
      "metadata": {
        "id": "AtC6bbbY6EZJ"
      },
      "source": [
        "def statistics_gini(A_in):\n",
        "    '''\n",
        "    Compute the Gini coefficient of the degree distribution of the input graph\n",
        "\n",
        "    Parameters\n",
        "    ----------\n",
        "    A_in: sparse matrix or np.array\n",
        "          The input adjacency matrix.\n",
        "\n",
        "    Returns\n",
        "    -------\n",
        "    Gini coefficient\n",
        "    '''\n",
        "\n",
        "    n = A_in.shape[0]\n",
        "    degrees = A_in.sum(axis=0).flatten()\n",
        "    degrees_sorted = np.sort(degrees)\n",
        "    G = (2 * np.sum(np.array([i * degrees_sorted[i] for i in range(len(degrees))]))) / (n * np.sum(degrees)) - (n + 1) / n\n",
        "    return float(G)"
      ],
      "execution_count": null,
      "outputs": []
    },
    {
      "cell_type": "code",
      "metadata": {
        "id": "S2qLfYMt7SCH"
      },
      "source": [
        "def statistics_compute_cpl(A_in):\n",
        "    '''\n",
        "    Compute characteristic path length\n",
        "\n",
        "    Parameters\n",
        "    ----------\n",
        "    A_in: sparse matrix or np.array\n",
        "          The input adjacency matrix.\n",
        "\n",
        "    Returns\n",
        "    -------\n",
        "    CPL\n",
        "    '''\n",
        "\n",
        "    P = sp.csgraph.shortest_path(sp.csr_matrix(A_in))\n",
        "    return P[((1 - np.isinf(P)) * (1 - np.eye(P.shape[0]))).astype(np.bool)].mean()"
      ],
      "execution_count": null,
      "outputs": []
    },
    {
      "cell_type": "code",
      "metadata": {
        "id": "2JOpt5tA7akh"
      },
      "source": [
        "def compute_graph_statistics(A_in):\n",
        "    '''\n",
        "    Compute all of the graph attributes\n",
        "\n",
        "    Parameters\n",
        "    ----------\n",
        "    A_in: sparse matrix\n",
        "          The input adjacency matrix.\n",
        "\n",
        "    Returns\n",
        "    -------\n",
        "    Dictionary containing the following statistics:\n",
        "             * Maximum, minimum, mean degree of nodes\n",
        "             * Size of the largest connected component (LCC)\n",
        "             * Wedge count\n",
        "             * Claw count\n",
        "             * Triangle count\n",
        "             * Gini coefficient\n",
        "             * Number of connected components\n",
        "             * Characteristic path length\n",
        "    '''\n",
        "\n",
        "    A = A_in.copy()\n",
        "\n",
        "    # assert((A == A.T).all())\n",
        "    A_graph = nx.from_numpy_matrix(A).to_undirected()\n",
        "    statistics = {}\n",
        "    d_max, d_min, d_mean = statistics_degrees(A)\n",
        "\n",
        "    # Degree Statistics\n",
        "    statistics['d_max'] = d_max\n",
        "    statistics['d_min'] = d_min\n",
        "    statistics['d'] = d_mean\n",
        "\n",
        "    # Node Number & Edge Number\n",
        "    statistics['node_num'] = A_graph.number_of_nodes()\n",
        "    statistics['edge_num'] = A_graph.number_of_edges()\n",
        "\n",
        "    # Largest Connected Component\n",
        "    LCC = statistics_LCC(A)\n",
        "    statistics['LCC'] = LCC.shape[0]\n",
        "\n",
        "    # Wedge Count\n",
        "    # statistics['wedge_count'] = statistics_wedge_count(A)\n",
        "\n",
        "    # Claw Count\n",
        "    # statistics['claw_count'] = statistics_claw_count(A)\n",
        "\n",
        "    # Triangle Count\n",
        "    statistics['triangle_count'] = statistics_triangle_count(A)\n",
        "\n",
        "    # Gini Coefficient\n",
        "    statistics['gini'] = statistics_gini(A)\n",
        "\n",
        "    # Clustering Coefficient\n",
        "    # statistics['clustering_coefficient'] = 3 * statistics['triangle_count'] / (statistics['claw_count']+1)\n",
        "\n",
        "    # Number of Connected Components\n",
        "    statistics['n_components'] = connected_components(A)[0]\n",
        "\n",
        "    # Characteristic Path Length\n",
        "    # statistics['cpl'] = statistics_compute_cpl(A)\n",
        "\n",
        "    return statistics"
      ],
      "execution_count": null,
      "outputs": []
    },
    {
      "cell_type": "code",
      "metadata": {
        "colab": {
          "base_uri": "https://localhost:8080/"
        },
        "id": "b5VY2-8B8dsn",
        "outputId": "c4962398-23f8-4ef1-cd42-829e37145d98"
      },
      "source": [
        "compute_graph_statistics(nx.adjacency_matrix(graphs[1]))"
      ],
      "execution_count": null,
      "outputs": [
        {
          "output_type": "execute_result",
          "data": {
            "text/plain": [
              "{'LCC': 23,\n",
              " 'd': 4.434782608695652,\n",
              " 'd_max': 6,\n",
              " 'd_min': 3,\n",
              " 'edge_num': 51,\n",
              " 'gini': -1.0434782608695652,\n",
              " 'n_components': 1,\n",
              " 'node_num': 23,\n",
              " 'triangle_count': 33}"
            ]
          },
          "metadata": {},
          "execution_count": 21
        }
      ]
    },
    {
      "cell_type": "markdown",
      "metadata": {
        "id": "R5qC_c27_7R5"
      },
      "source": [
        "## Save and Load"
      ]
    },
    {
      "cell_type": "code",
      "metadata": {
        "id": "D9NtUV1X_-Oz"
      },
      "source": [
        "def save_model_to_drive(base_dir, model, optim, epoch, loss):\n",
        "    if not os.path.isdir(base_dir):\n",
        "        os.mkdir(base_dir)\n",
        "        torch.save(\n",
        "        {\n",
        "            'epoch': epoch,\n",
        "            'model_state_dict': model.state_dict(),\n",
        "            'optimizer_state_dict': optim.state_dict(),\n",
        "            'loss': loss,\n",
        "        }, f'{base_dir}/MODEL_ALAJ_{epoch}.pkl')\n",
        "\n",
        "\n",
        "def load_model_from_drive(base_dir, model, optimizer):\n",
        "    latest_path = sorted(os.listdir(base_dir))\n",
        "    print(latest_path)\n",
        "    latest_path = latest_path[-1]\n",
        "    checkpoint = torch.load(f'{base_dir}/{latest_path}')\n",
        "    model.load_state_dict(checkpoint['model_state_dict'])\n",
        "    optimizer.load_state_dict(checkpoint['optimizer_state_dict'])\n",
        "    epoch = checkpoint['epoch']\n",
        "    loss = checkpoint['loss']\n",
        "    return model, optimizer, epoch, loss\n",
        "\n",
        "\n",
        "def load_model_only_from_drive(base_dir, model):\n",
        "    latest_path = sorted(os.listdir(base_dir))[-1]\n",
        "    checkpoint = torch.load(f'{base_dir}/{latest_path}')\n",
        "    model.load_state_dict(checkpoint['model_state_dict'])\n",
        "    return model"
      ],
      "execution_count": null,
      "outputs": []
    },
    {
      "cell_type": "markdown",
      "metadata": {
        "id": "J2uQqqk952wY"
      },
      "source": [
        "# 2) Model\n",
        "\n",
        "The model definition and its blueprints."
      ]
    },
    {
      "cell_type": "markdown",
      "metadata": {
        "id": "aXrV0OYSMhtZ"
      },
      "source": [
        "## Convolution\n",
        "The definition of graph convoultions (convolution layers) and its blueprint."
      ]
    },
    {
      "cell_type": "code",
      "metadata": {
        "id": "p5lgRdta54s4"
      },
      "source": [
        "class GraphConv(nn.Module):\n",
        "    def __init__(self, input_dim, output_dim):\n",
        "        super().__init__()\n",
        "        self.input_dim = input_dim\n",
        "        self.output_dim = output_dim\n",
        "        self.weight = nn.Parameter(torch.FloatTensor(input_dim, output_dim).cuda())\n",
        "        self.relu = nn.ReLU()\n",
        "\n",
        "    def forward(self, X, Adj):\n",
        "        '''\n",
        "        X and Adj are the actual feature and adjacency matrices, respectively.\n",
        "        '''\n",
        "        Y = torch.matmul(Adj, X)\n",
        "        Y = torch.matmul(Y, self.weight.double())\n",
        "\n",
        "        return Y"
      ],
      "execution_count": null,
      "outputs": []
    },
    {
      "cell_type": "markdown",
      "metadata": {
        "id": "RCu-v8g7Mnlc"
      },
      "source": [
        "## Encoder\n",
        "Encoder for our *VAE*."
      ]
    },
    {
      "cell_type": "code",
      "metadata": {
        "id": "VfapuOoOwKIN"
      },
      "source": [
        "class GraphEncoder(nn.Module):\n",
        "    def __init__(self, input_dim, hidden_dim, emb_dim):\n",
        "        '''\n",
        "        emb_dim must be max_nodes\n",
        "        '''\n",
        "        self.input_dim = input_dim\n",
        "        self.hidden_dim = hidden_dim\n",
        "        self.emb_dim = emb_dim\n",
        "        super(GraphEncoder, self).__init__()\n",
        "\n",
        "        self.conv1 = GraphConv(input_dim=input_dim, output_dim=hidden_dim).cuda()\n",
        "        self.relu = nn.ReLU()\n",
        "        self.conv2 = GraphConv(input_dim=hidden_dim, output_dim=emb_dim).cuda()\n",
        "        self.linear_miu = nn.Linear(emb_dim, emb_dim, dtype=torch.float32).cuda()\n",
        "        self.linear_sigma = nn.Linear(emb_dim, emb_dim, dtype=torch.float32).cuda()\n",
        "\n",
        "        for layer in self.modules():\n",
        "            if isinstance(layer, GraphConv):\n",
        "                layer.weight.data = init.xavier_normal_(layer.weight.data.double(), gain=nn.init.calculate_gain('relu'))\n",
        "\n",
        "    def forward(self, X, Adj):\n",
        "        '''\n",
        "        X is the feature matrix, NOT the embedding\n",
        "        '''\n",
        "        X = self.conv1(X, Adj)\n",
        "        X = self.relu(X)\n",
        "        X = self.conv2(X, Adj)\n",
        "\n",
        "        # Sum the node features to obtain the graph's feature matrix\n",
        "        X = torch.mean(X, 0, dtype=torch.float64)\n",
        "        miu = self.linear_miu(X.float())\n",
        "        sigma = self.linear_sigma(X.float())\n",
        "\n",
        "        return miu, sigma"
      ],
      "execution_count": null,
      "outputs": []
    },
    {
      "cell_type": "markdown",
      "metadata": {
        "id": "LCPAhmSDNToX"
      },
      "source": [
        "## Decoder\n",
        "Decoder for our *VAE*."
      ]
    },
    {
      "cell_type": "code",
      "metadata": {
        "id": "-UIXvhA_wOd9"
      },
      "source": [
        "class GraphDecoder(nn.Module):\n",
        "    def __init__(self, emb_dim, hidden_dim, max_nodes):\n",
        "      output_dim = max_nodes * (max_nodes + 1) // 2\n",
        "      super(GraphDecoder, self).__init__()\n",
        "\n",
        "      self.conv1 = nn.Linear(emb_dim, hidden_dim, dtype=torch.float32).cuda()\n",
        "      self.relu = nn.ReLU()\n",
        "      self.conv2 = nn.Linear(hidden_dim, output_dim, dtype=torch.float32).cuda()\n",
        "\n",
        "      for layer in self.modules():\n",
        "            if isinstance(layer, GraphConv):\n",
        "                layer.weight.data = init.xavier_normal_(layer.weight.data, gain=nn.init.calculate_gain('relu'))\n",
        "\n",
        "    def forward(self, X):\n",
        "        X = self.conv1(X)\n",
        "        X = self.relu(X)\n",
        "        X = self.conv2(X)\n",
        "\n",
        "        return torch.sigmoid(X)"
      ],
      "execution_count": null,
      "outputs": []
    },
    {
      "cell_type": "markdown",
      "metadata": {
        "id": "OPECAoSwP8b7"
      },
      "source": [
        "![image.png](data:image/png;base64,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)"
      ]
    },
    {
      "cell_type": "markdown",
      "metadata": {
        "id": "s9W__sReNhos"
      },
      "source": [
        "## AlajVAE\n",
        "Our model definitions and blueprints."
      ]
    },
    {
      "cell_type": "code",
      "metadata": {
        "id": "s96SyQFYQCLO"
      },
      "source": [
        "class AlajVAE(nn.Module):\n",
        "    def __init__(self, input_dim, hidden_dim, emb_dim, max_nodes):\n",
        "      super(AlajVAE, self).__init__()\n",
        "\n",
        "      self.encoder = GraphEncoder(input_dim=input_dim, hidden_dim=hidden_dim, emb_dim=emb_dim).cuda()\n",
        "      self.decoder = GraphDecoder(emb_dim=emb_dim, hidden_dim=hidden_dim, max_nodes=max_nodes).cuda()\n",
        "\n",
        "      self.emb_dim = emb_dim\n",
        "      self.max_nodes = max_nodes\n",
        "\n",
        "    def generate(self):\n",
        "        z = torch.autograd.Variable(torch.rand(self.emb_dim)).cuda()\n",
        "        out = self.decoder(z)\n",
        "        rec_adj_tensor = recover_adj(out.data, self.max_nodes)\n",
        "        return rec_adj_tensor\n",
        "\n",
        "\n",
        "    def similarity_function(self, adj, adj_rec, matching_features, matching_features_rec):\n",
        "        '''\n",
        "        Specifically, the predicted adjacency matrix eA 2 [0, 1]k⇥k contains both node probabilities\n",
        "        eAa,a and edge probabilities eAa,b for nodes a 6= b\n",
        "        '''\n",
        "\n",
        "        similarities_matrix = torch.zeros(self.max_nodes, self.max_nodes, self.max_nodes, self.max_nodes).cuda()\n",
        "        for i in range(self.max_nodes):\n",
        "          for j in range(0, self.max_nodes):\n",
        "                    if i == j:\n",
        "                        for a in range(self.max_nodes):\n",
        "                            similarities_matrix[i, j, a, a] = ((1 / (abs(matching_features[i] - matching_features_rec[a]) + 1)) * adj_rec[a, a])\n",
        "                    else:\n",
        "                        for a in range(self.max_nodes):\n",
        "                            for b in range(self.max_nodes):\n",
        "                                if b == a:\n",
        "                                    continue\n",
        "                                similarities_matrix[i, j, a, b] = (adj[i, j]* adj_rec[a, b]* adj_rec[a, a]* adj_rec[b, b])\n",
        "        return similarities_matrix\n",
        "\n",
        "    def mp_matching(self, init, S, max_iters=50):\n",
        "        '''\n",
        "        Max-pooling Matching implementation.\n",
        "        '''\n",
        "        x = init\n",
        "        for it in range(max_iters):\n",
        "            y = torch.zeros(self.max_nodes, self.max_nodes).cuda()\n",
        "            for i in range(self.max_nodes):\n",
        "                for a in range(self.max_nodes):\n",
        "                    y[i, a] = x[i, a] * S[i, i, a, a]\n",
        "                    neighbours = sum([torch.max(x[j, :] * S[i, j, a, :]) for j in range(self.max_nodes) if j != i])\n",
        "                    y[i, a] += neighbours.detach().item()\n",
        "            norm = torch.norm(y)\n",
        "            x = y / norm\n",
        "        return x\n",
        "\n",
        "    def forward(self, X, Adj):\n",
        "        miu, sigma = self.encoder(X, Adj)\n",
        "        self.sigma = sigma\n",
        "        self.miu = miu\n",
        "        eps = torch.autograd.Variable(torch.randn(sigma.size())).cuda()\n",
        "        z = eps * sigma + miu\n",
        "        self.z = z\n",
        "        self.eps = eps\n",
        "        out = self.decoder(z)\n",
        "        self.out = out\n",
        "\n",
        "        rec_adj_tensor = recover_adj(out, self.max_nodes)\n",
        "        out_features = torch.sum(rec_adj_tensor, 1)\n",
        "        adj_features = torch.sum(Adj, 1)\n",
        "\n",
        "        S = self.similarity_function(Adj, rec_adj_tensor, adj_features, out_features).cuda()\n",
        "        self.S = S\n",
        "        init_corr = 1 / self.max_nodes\n",
        "        init_assignment = torch.ones(self.max_nodes, self.max_nodes).cuda() * init_corr\n",
        "        assignment = self.mp_matching(init_assignment, S)\n",
        "\n",
        "        adj_permuted = Adj.data\n",
        "        adj_vectorized = adj_permuted[torch.triu(torch.ones(self.max_nodes, self.max_nodes)) == 1].squeeze_()\n",
        "        self.adj_vectorized = adj_vectorized\n",
        "        adj_vectorized_var = torch.autograd.Variable(adj_vectorized, requires_grad=False).cuda()\n",
        "        self.adj_vectorized_var = adj_vectorized_var\n",
        "\n",
        "        # NOTE: first = truth, second = predicted.\n",
        "        rec_loss = F.binary_cross_entropy(out, adj_vectorized_var.float())\n",
        "        normalized_kl = torch.mean((-0.5 * torch.sum(1 + sigma - miu.pow(2) - sigma.exp())))\n",
        "        total_loss = rec_loss + normalized_kl\n",
        "\n",
        "        return total_loss"
      ],
      "execution_count": null,
      "outputs": []
    },
    {
      "cell_type": "markdown",
      "metadata": {
        "id": "DImtxtba6CZh"
      },
      "source": [
        "# 3) Train and Test Functions"
      ]
    },
    {
      "cell_type": "code",
      "metadata": {
        "colab": {
          "base_uri": "https://localhost:8080/"
        },
        "id": "y39xcIHAQw7C",
        "outputId": "a21dd11a-50aa-49bc-d75e-2e43ca4ca0cc"
      },
      "source": [
        "data = Graph_load_batch(min_num_nodes=15, max_num_nodes=20, name='ENZYMES')"
      ],
      "execution_count": null,
      "outputs": [
        {
          "output_type": "stream",
          "name": "stdout",
          "text": [
            "Loading graph dataset: ENZYMES\n",
            "Data (67 entries) loaded successfully.\n"
          ]
        }
      ]
    },
    {
      "cell_type": "code",
      "metadata": {
        "id": "sSjTyDq0QPPu"
      },
      "source": [
        "def train_model(model, dataset, epochs, min_nodes, max_nodes, print_interval=1, resume=False):\n",
        "    base_dir = '/content/gdrive/MyDrive/Alaj_output'\n",
        "\n",
        "    # Using Adam Optimizer\n",
        "    optim = torch.optim.Adam(model.parameters(), lr=0.0001, betas=(0.9, 0.98), eps=1e-9)\n",
        "\n",
        "    model.train()\n",
        "    start = time.time()\n",
        "    temp = start\n",
        "    total_loss = 0\n",
        "    writer = SummaryWriter()\n",
        "    start_epoch = -1\n",
        "\n",
        "    if resume:\n",
        "        model, optim, start_epoch, loss = load_model_from_drive(base_dir, model, optim)\n",
        "        print(f'Resuming from epoch #{start_epoch + 1}.')\n",
        "\n",
        "    for epoch in range(start_epoch + 1, epochs):\n",
        "        for batch, graph in enumerate(dataset):\n",
        "            adj, features = torch.tensor(adjacency_matrix(graph, max_nodes, min_nodes)).cuda(), torch.tensor(feature_matrix(graph, max_nodes)).cuda()\n",
        "            loss = model(features, adj)\n",
        "            optim.zero_grad()\n",
        "            writer.add_scalar('Loss/Train', float(loss), epoch)\n",
        "            loss.backward()\n",
        "            optim.step()\n",
        "            total_loss += loss.item()\n",
        "            if (epoch + 1) % print_interval == 0:\n",
        "                loss_avg = total_loss / print_interval\n",
        "                print(f'Time = {datetime.timedelta(seconds=round(time.time() - start))},\\t\\t' \\\n",
        "                      f'Epoch #{epoch + 1},\\t' \\\n",
        "                      f'Loss = {loss_avg:.3f},\\t\\t' \\\n",
        "                      f'{round(time.time() - temp)} seconds per {print_interval} iteration(s).')\n",
        "                total_loss = 0\n",
        "                temp = time.time()\n",
        "\n",
        "        # Saving the trained model on each epoch (saving checkpoints)\n",
        "        # This will enable us to train our model on larger datasets\n",
        "        # despite using the same computational resources.\n",
        "        save_model_to_drive(base_dir, model, optim, epoch, loss)"
      ],
      "execution_count": null,
      "outputs": []
    },
    {
      "cell_type": "code",
      "metadata": {
        "id": "ct0YWdBhQR1j"
      },
      "source": [
        "model = AlajVAE(3, 32, 32, 20).cuda()"
      ],
      "execution_count": null,
      "outputs": []
    },
    {
      "cell_type": "code",
      "metadata": {
        "colab": {
          "base_uri": "https://localhost:8080/"
        },
        "id": "nL1EhQ4sQRxu",
        "outputId": "0fe722f5-4bc9-4424-d168-0ac344db42d2"
      },
      "source": [
        "train_model(model, data, 6, 15, 20, resume=True)"
      ],
      "execution_count": null,
      "outputs": [
        {
          "output_type": "stream",
          "name": "stdout",
          "text": [
            "['MODEL_ALAJ_0.pkl', 'MODEL_ALAJ_1.pkl', 'MODEL_ALAJ_2.pkl', 'MODEL_ALAJ_3.pkl']\n",
            "Resuming from epoch #4.\n",
            "Time = 0:00:52,\t\tEpoch #5,\tLoss = 12.006,\t\t52 seconds per 1 iteration(s).\n",
            "Time = 0:01:39,\t\tEpoch #5,\tLoss = 9.389,\t\t47 seconds per 1 iteration(s).\n",
            "Time = 0:02:26,\t\tEpoch #5,\tLoss = 19.887,\t\t46 seconds per 1 iteration(s).\n",
            "Time = 0:03:12,\t\tEpoch #5,\tLoss = 9.743,\t\t47 seconds per 1 iteration(s).\n",
            "Time = 0:03:59,\t\tEpoch #5,\tLoss = 14.938,\t\t46 seconds per 1 iteration(s).\n",
            "Time = 0:04:46,\t\tEpoch #5,\tLoss = 16.099,\t\t47 seconds per 1 iteration(s).\n",
            "Time = 0:05:32,\t\tEpoch #5,\tLoss = 7.608,\t\t46 seconds per 1 iteration(s).\n",
            "Time = 0:06:19,\t\tEpoch #5,\tLoss = 7.222,\t\t47 seconds per 1 iteration(s).\n",
            "Time = 0:07:04,\t\tEpoch #5,\tLoss = 24.462,\t\t46 seconds per 1 iteration(s).\n",
            "Time = 0:07:51,\t\tEpoch #5,\tLoss = 11.915,\t\t47 seconds per 1 iteration(s).\n",
            "Time = 0:08:38,\t\tEpoch #5,\tLoss = 43.483,\t\t47 seconds per 1 iteration(s).\n",
            "Time = 0:09:24,\t\tEpoch #5,\tLoss = 20.660,\t\t47 seconds per 1 iteration(s).\n",
            "Time = 0:10:11,\t\tEpoch #5,\tLoss = 26.786,\t\t46 seconds per 1 iteration(s).\n",
            "Time = 0:10:58,\t\tEpoch #5,\tLoss = 21.981,\t\t47 seconds per 1 iteration(s).\n",
            "Time = 0:11:44,\t\tEpoch #5,\tLoss = 58.896,\t\t47 seconds per 1 iteration(s).\n",
            "Time = 0:12:31,\t\tEpoch #5,\tLoss = 59.320,\t\t46 seconds per 1 iteration(s).\n",
            "Time = 0:13:18,\t\tEpoch #5,\tLoss = 32.269,\t\t47 seconds per 1 iteration(s).\n",
            "Time = 0:14:05,\t\tEpoch #5,\tLoss = 17.260,\t\t47 seconds per 1 iteration(s).\n",
            "Time = 0:14:52,\t\tEpoch #5,\tLoss = 40.613,\t\t47 seconds per 1 iteration(s).\n",
            "Time = 0:15:39,\t\tEpoch #5,\tLoss = 20.681,\t\t47 seconds per 1 iteration(s).\n",
            "Time = 0:16:25,\t\tEpoch #5,\tLoss = 13.673,\t\t46 seconds per 1 iteration(s).\n",
            "Time = 0:17:12,\t\tEpoch #5,\tLoss = 29.198,\t\t47 seconds per 1 iteration(s).\n",
            "Time = 0:17:59,\t\tEpoch #5,\tLoss = 21.726,\t\t46 seconds per 1 iteration(s).\n",
            "Time = 0:18:46,\t\tEpoch #5,\tLoss = 21.147,\t\t47 seconds per 1 iteration(s).\n",
            "Time = 0:19:32,\t\tEpoch #5,\tLoss = 22.638,\t\t46 seconds per 1 iteration(s).\n",
            "Time = 0:20:18,\t\tEpoch #5,\tLoss = 36.172,\t\t47 seconds per 1 iteration(s).\n",
            "Time = 0:21:05,\t\tEpoch #5,\tLoss = 39.976,\t\t47 seconds per 1 iteration(s).\n",
            "Time = 0:21:51,\t\tEpoch #5,\tLoss = 24.516,\t\t46 seconds per 1 iteration(s).\n",
            "Time = 0:22:37,\t\tEpoch #5,\tLoss = 34.511,\t\t46 seconds per 1 iteration(s).\n",
            "Time = 0:23:24,\t\tEpoch #5,\tLoss = 23.732,\t\t46 seconds per 1 iteration(s).\n",
            "Time = 0:24:10,\t\tEpoch #5,\tLoss = 40.760,\t\t47 seconds per 1 iteration(s).\n",
            "Time = 0:24:57,\t\tEpoch #5,\tLoss = 37.260,\t\t47 seconds per 1 iteration(s).\n",
            "Time = 0:25:43,\t\tEpoch #5,\tLoss = 38.866,\t\t46 seconds per 1 iteration(s).\n",
            "Time = 0:26:30,\t\tEpoch #5,\tLoss = 13.327,\t\t47 seconds per 1 iteration(s).\n",
            "Time = 0:27:16,\t\tEpoch #5,\tLoss = 38.345,\t\t46 seconds per 1 iteration(s).\n",
            "Time = 0:28:02,\t\tEpoch #5,\tLoss = 47.355,\t\t46 seconds per 1 iteration(s).\n",
            "Time = 0:28:48,\t\tEpoch #5,\tLoss = 46.052,\t\t46 seconds per 1 iteration(s).\n",
            "Time = 0:29:35,\t\tEpoch #5,\tLoss = 67.917,\t\t46 seconds per 1 iteration(s).\n",
            "Time = 0:30:21,\t\tEpoch #5,\tLoss = 8.892,\t\t47 seconds per 1 iteration(s).\n",
            "Time = 0:31:08,\t\tEpoch #5,\tLoss = 4.725,\t\t47 seconds per 1 iteration(s).\n",
            "Time = 0:31:55,\t\tEpoch #5,\tLoss = 30.786,\t\t46 seconds per 1 iteration(s).\n",
            "Time = 0:32:42,\t\tEpoch #5,\tLoss = 40.394,\t\t47 seconds per 1 iteration(s).\n",
            "Time = 0:33:28,\t\tEpoch #5,\tLoss = 31.233,\t\t47 seconds per 1 iteration(s).\n",
            "Time = 0:34:15,\t\tEpoch #5,\tLoss = 15.532,\t\t47 seconds per 1 iteration(s).\n",
            "Time = 0:35:02,\t\tEpoch #5,\tLoss = 62.776,\t\t46 seconds per 1 iteration(s).\n",
            "Time = 0:35:48,\t\tEpoch #5,\tLoss = 87.874,\t\t47 seconds per 1 iteration(s).\n",
            "Time = 0:36:34,\t\tEpoch #5,\tLoss = 23.427,\t\t46 seconds per 1 iteration(s).\n",
            "Time = 0:37:21,\t\tEpoch #5,\tLoss = 38.872,\t\t46 seconds per 1 iteration(s).\n",
            "Time = 0:38:07,\t\tEpoch #5,\tLoss = 13.059,\t\t46 seconds per 1 iteration(s).\n",
            "Time = 0:38:54,\t\tEpoch #5,\tLoss = 14.289,\t\t46 seconds per 1 iteration(s).\n",
            "Time = 0:39:40,\t\tEpoch #5,\tLoss = 13.159,\t\t47 seconds per 1 iteration(s).\n",
            "Time = 0:40:27,\t\tEpoch #5,\tLoss = 109.093,\t\t47 seconds per 1 iteration(s).\n",
            "Time = 0:41:13,\t\tEpoch #5,\tLoss = 15.524,\t\t46 seconds per 1 iteration(s).\n",
            "Time = 0:42:00,\t\tEpoch #5,\tLoss = 15.866,\t\t47 seconds per 1 iteration(s).\n",
            "Time = 0:42:47,\t\tEpoch #5,\tLoss = 16.084,\t\t47 seconds per 1 iteration(s).\n",
            "Time = 0:43:33,\t\tEpoch #5,\tLoss = 15.406,\t\t47 seconds per 1 iteration(s).\n",
            "Time = 0:44:19,\t\tEpoch #5,\tLoss = 20.540,\t\t46 seconds per 1 iteration(s).\n",
            "Time = 0:45:06,\t\tEpoch #5,\tLoss = 104.441,\t\t46 seconds per 1 iteration(s).\n",
            "Time = 0:45:52,\t\tEpoch #5,\tLoss = 26.411,\t\t46 seconds per 1 iteration(s).\n",
            "Time = 0:46:39,\t\tEpoch #5,\tLoss = 31.580,\t\t47 seconds per 1 iteration(s).\n",
            "Time = 0:47:25,\t\tEpoch #5,\tLoss = 28.092,\t\t46 seconds per 1 iteration(s).\n",
            "Time = 0:48:11,\t\tEpoch #5,\tLoss = 26.331,\t\t46 seconds per 1 iteration(s).\n",
            "Time = 0:48:58,\t\tEpoch #5,\tLoss = 25.161,\t\t46 seconds per 1 iteration(s).\n",
            "Time = 0:49:45,\t\tEpoch #5,\tLoss = 18.308,\t\t47 seconds per 1 iteration(s).\n",
            "Time = 0:50:31,\t\tEpoch #5,\tLoss = 29.989,\t\t46 seconds per 1 iteration(s).\n",
            "Time = 0:51:18,\t\tEpoch #5,\tLoss = 10.680,\t\t47 seconds per 1 iteration(s).\n",
            "Time = 0:52:04,\t\tEpoch #5,\tLoss = 14.245,\t\t46 seconds per 1 iteration(s).\n",
            "Time = 0:52:50,\t\tEpoch #6,\tLoss = 6.512,\t\t46 seconds per 1 iteration(s).\n",
            "Time = 0:53:36,\t\tEpoch #6,\tLoss = 5.504,\t\t47 seconds per 1 iteration(s).\n",
            "Time = 0:54:22,\t\tEpoch #6,\tLoss = 10.644,\t\t46 seconds per 1 iteration(s).\n",
            "Time = 0:55:09,\t\tEpoch #6,\tLoss = 5.402,\t\t47 seconds per 1 iteration(s).\n",
            "Time = 0:55:55,\t\tEpoch #6,\tLoss = 8.086,\t\t46 seconds per 1 iteration(s).\n",
            "Time = 0:56:41,\t\tEpoch #6,\tLoss = 8.884,\t\t47 seconds per 1 iteration(s).\n",
            "Time = 0:57:28,\t\tEpoch #6,\tLoss = 4.687,\t\t46 seconds per 1 iteration(s).\n",
            "Time = 0:58:14,\t\tEpoch #6,\tLoss = 4.237,\t\t46 seconds per 1 iteration(s).\n",
            "Time = 0:59:00,\t\tEpoch #6,\tLoss = 12.978,\t\t46 seconds per 1 iteration(s).\n",
            "Time = 0:59:46,\t\tEpoch #6,\tLoss = 7.824,\t\t46 seconds per 1 iteration(s).\n",
            "Time = 1:00:33,\t\tEpoch #6,\tLoss = 34.845,\t\t47 seconds per 1 iteration(s).\n",
            "Time = 1:01:19,\t\tEpoch #6,\tLoss = 14.054,\t\t47 seconds per 1 iteration(s).\n",
            "Time = 1:02:05,\t\tEpoch #6,\tLoss = 18.752,\t\t46 seconds per 1 iteration(s).\n",
            "Time = 1:02:52,\t\tEpoch #6,\tLoss = 13.919,\t\t47 seconds per 1 iteration(s).\n",
            "Time = 1:03:38,\t\tEpoch #6,\tLoss = 40.975,\t\t46 seconds per 1 iteration(s).\n",
            "Time = 1:04:24,\t\tEpoch #6,\tLoss = 41.453,\t\t46 seconds per 1 iteration(s).\n",
            "Time = 1:05:10,\t\tEpoch #6,\tLoss = 17.970,\t\t46 seconds per 1 iteration(s).\n",
            "Time = 1:05:56,\t\tEpoch #6,\tLoss = 9.790,\t\t46 seconds per 1 iteration(s).\n",
            "Time = 1:06:43,\t\tEpoch #6,\tLoss = 26.219,\t\t46 seconds per 1 iteration(s).\n",
            "Time = 1:07:29,\t\tEpoch #6,\tLoss = 12.167,\t\t46 seconds per 1 iteration(s).\n",
            "Time = 1:08:15,\t\tEpoch #6,\tLoss = 8.734,\t\t46 seconds per 1 iteration(s).\n",
            "Time = 1:09:01,\t\tEpoch #6,\tLoss = 18.985,\t\t46 seconds per 1 iteration(s).\n",
            "Time = 1:09:48,\t\tEpoch #6,\tLoss = 12.141,\t\t46 seconds per 1 iteration(s).\n",
            "Time = 1:10:34,\t\tEpoch #6,\tLoss = 11.622,\t\t46 seconds per 1 iteration(s).\n",
            "Time = 1:11:20,\t\tEpoch #6,\tLoss = 15.963,\t\t46 seconds per 1 iteration(s).\n",
            "Time = 1:12:07,\t\tEpoch #6,\tLoss = 18.908,\t\t47 seconds per 1 iteration(s).\n",
            "Time = 1:12:53,\t\tEpoch #6,\tLoss = 20.805,\t\t46 seconds per 1 iteration(s).\n",
            "Time = 1:13:40,\t\tEpoch #6,\tLoss = 18.151,\t\t46 seconds per 1 iteration(s).\n",
            "Time = 1:14:26,\t\tEpoch #6,\tLoss = 25.315,\t\t46 seconds per 1 iteration(s).\n",
            "Time = 1:15:12,\t\tEpoch #6,\tLoss = 17.393,\t\t46 seconds per 1 iteration(s).\n",
            "Time = 1:15:59,\t\tEpoch #6,\tLoss = 31.575,\t\t47 seconds per 1 iteration(s).\n",
            "Time = 1:16:46,\t\tEpoch #6,\tLoss = 29.079,\t\t47 seconds per 1 iteration(s).\n",
            "Time = 1:17:32,\t\tEpoch #6,\tLoss = 30.227,\t\t46 seconds per 1 iteration(s).\n",
            "Time = 1:18:18,\t\tEpoch #6,\tLoss = 8.120,\t\t46 seconds per 1 iteration(s).\n",
            "Time = 1:19:04,\t\tEpoch #6,\tLoss = 20.498,\t\t46 seconds per 1 iteration(s).\n",
            "Time = 1:19:51,\t\tEpoch #6,\tLoss = 33.615,\t\t46 seconds per 1 iteration(s).\n",
            "Time = 1:20:37,\t\tEpoch #6,\tLoss = 25.663,\t\t47 seconds per 1 iteration(s).\n",
            "Time = 1:21:24,\t\tEpoch #6,\tLoss = 35.705,\t\t47 seconds per 1 iteration(s).\n",
            "Time = 1:22:11,\t\tEpoch #6,\tLoss = 6.139,\t\t47 seconds per 1 iteration(s).\n",
            "Time = 1:22:58,\t\tEpoch #6,\tLoss = 2.776,\t\t47 seconds per 1 iteration(s).\n",
            "Time = 1:23:44,\t\tEpoch #6,\tLoss = 20.638,\t\t47 seconds per 1 iteration(s).\n",
            "Time = 1:24:31,\t\tEpoch #6,\tLoss = 30.215,\t\t47 seconds per 1 iteration(s).\n",
            "Time = 1:25:18,\t\tEpoch #6,\tLoss = 25.361,\t\t47 seconds per 1 iteration(s).\n",
            "Time = 1:26:05,\t\tEpoch #6,\tLoss = 10.749,\t\t47 seconds per 1 iteration(s).\n",
            "Time = 1:26:52,\t\tEpoch #6,\tLoss = 49.764,\t\t47 seconds per 1 iteration(s).\n",
            "Time = 1:27:38,\t\tEpoch #6,\tLoss = 68.570,\t\t47 seconds per 1 iteration(s).\n",
            "Time = 1:28:25,\t\tEpoch #6,\tLoss = 16.660,\t\t47 seconds per 1 iteration(s).\n",
            "Time = 1:29:12,\t\tEpoch #6,\tLoss = 31.241,\t\t47 seconds per 1 iteration(s).\n",
            "Time = 1:29:58,\t\tEpoch #6,\tLoss = 7.163,\t\t46 seconds per 1 iteration(s).\n",
            "Time = 1:30:45,\t\tEpoch #6,\tLoss = 7.803,\t\t47 seconds per 1 iteration(s).\n",
            "Time = 1:31:32,\t\tEpoch #6,\tLoss = 6.939,\t\t47 seconds per 1 iteration(s).\n",
            "Time = 1:32:18,\t\tEpoch #6,\tLoss = 74.913,\t\t46 seconds per 1 iteration(s).\n",
            "Time = 1:33:05,\t\tEpoch #6,\tLoss = 8.331,\t\t47 seconds per 1 iteration(s).\n",
            "Time = 1:33:51,\t\tEpoch #6,\tLoss = 9.525,\t\t46 seconds per 1 iteration(s).\n",
            "Time = 1:34:37,\t\tEpoch #6,\tLoss = 10.593,\t\t47 seconds per 1 iteration(s).\n",
            "Time = 1:35:24,\t\tEpoch #6,\tLoss = 10.436,\t\t47 seconds per 1 iteration(s).\n",
            "Time = 1:36:11,\t\tEpoch #6,\tLoss = 14.008,\t\t47 seconds per 1 iteration(s).\n",
            "Time = 1:36:57,\t\tEpoch #6,\tLoss = 72.037,\t\t46 seconds per 1 iteration(s).\n",
            "Time = 1:37:44,\t\tEpoch #6,\tLoss = 17.382,\t\t46 seconds per 1 iteration(s).\n",
            "Time = 1:38:30,\t\tEpoch #6,\tLoss = 19.593,\t\t46 seconds per 1 iteration(s).\n",
            "Time = 1:39:16,\t\tEpoch #6,\tLoss = 18.997,\t\t46 seconds per 1 iteration(s).\n",
            "Time = 1:40:02,\t\tEpoch #6,\tLoss = 19.927,\t\t46 seconds per 1 iteration(s).\n",
            "Time = 1:40:48,\t\tEpoch #6,\tLoss = 16.313,\t\t47 seconds per 1 iteration(s).\n",
            "Time = 1:41:35,\t\tEpoch #6,\tLoss = 14.041,\t\t47 seconds per 1 iteration(s).\n",
            "Time = 1:42:22,\t\tEpoch #6,\tLoss = 15.612,\t\t47 seconds per 1 iteration(s).\n",
            "Time = 1:43:09,\t\tEpoch #6,\tLoss = 6.493,\t\t47 seconds per 1 iteration(s).\n",
            "Time = 1:43:55,\t\tEpoch #6,\tLoss = 8.070,\t\t47 seconds per 1 iteration(s).\n"
          ]
        }
      ]
    },
    {
      "cell_type": "code",
      "metadata": {
        "id": "XC_1bPc3QRhl",
        "colab": {
          "base_uri": "https://localhost:8080/",
          "height": 319
        },
        "outputId": "250f62ed-b7dd-4839-ac6f-16f3b8ac1a15"
      },
      "source": [
        "show_graph(model)"
      ],
      "execution_count": null,
      "outputs": [
        {
          "output_type": "display_data",
          "data": {
            "image/png": "[encoded data removed]",
            "text/plain": [
              "<Figure size 432x288 with 1 Axes>"
            ]
          },
          "metadata": {}
        }
      ]
    },
    {
      "cell_type": "code",
      "metadata": {
        "id": "KTtrBKidGobm"
      },
      "source": [
        "def test_model(model, dataset, sample_size, load_dir):\n",
        "    model = load_model_only_from_drive(load_dir, model)\n",
        "\n",
        "    generated_list = [model.generate() for i in range(sample_size)]\n",
        "    generated_stats = [compute_graph_statistics(\n",
        "        nx.adjacency_matrix(\n",
        "            nx.from_numpy_matrix(\n",
        "                np.rint(generated.cpu().numpy())\n",
        "            )\n",
        "        )\n",
        "    ) for generated in generated_list]\n",
        "    print(generated_stats)\n",
        "    generated_mean_stats = {}\n",
        "    for k in list(generated_stats[0].keys()):\n",
        "        generated_mean_stats[k] = sum(list(map(lambda x: x[k], generated_stats))) / len(generated_stats)\n",
        "\n",
        "\n",
        "    test_sample = np.random.choice(dataset, size=sample_size, replace=False)\n",
        "    sample_stats = [compute_graph_statistics(\n",
        "        nx.adjacency_matrix(sample)\n",
        "    ) for sample in test_sample]\n",
        "\n",
        "    print(sample_stats)\n",
        "    sample_mean_stats = {}\n",
        "    for k in list(sample_stats[0].keys()):\n",
        "        sample_mean_stats[k] = sum(list(map(lambda x: x[k], sample_stats))) / len(sample_stats)\n",
        "\n",
        "    diff_stats = {}\n",
        "    for k in list(generated_mean_stats.keys()):\n",
        "        diff_stats[k] = abs(generated_mean_stats[k] - sample_mean_stats[k])\n",
        "\n",
        "    return diff_stats"
      ],
      "execution_count": null,
      "outputs": []
    },
    {
      "cell_type": "code",
      "metadata": {
        "id": "ejTvY6GBNoQF",
        "colab": {
          "base_uri": "https://localhost:8080/"
        },
        "outputId": "3770013f-849f-4953-a878-24b2db27c198"
      },
      "source": [
        "test_model(model, data, 60, '/content/gdrive/My Drive/Alaj_output')"
      ],
      "execution_count": null,
      "outputs": [
        {
          "output_type": "stream",
          "name": "stdout",
          "text": [
            "[{'d_max': 11.0, 'd_min': 5.0, 'd': 7.3, 'node_num': 20, 'edge_num': 78, 'LCC': 20, 'triangle_count': 44, 'gini': -1.05, 'n_components': 1}, {'d_max': 11.0, 'd_min': 4.0, 'd': 7.3, 'node_num': 20, 'edge_num': 76, 'LCC': 20, 'triangle_count': 59, 'gini': -1.05, 'n_components': 1}, {'d_max': 11.0, 'd_min': 5.0, 'd': 7.7, 'node_num': 20, 'edge_num': 81, 'LCC': 20, 'triangle_count': 63, 'gini': -1.05, 'n_components': 1}, {'d_max': 11.0, 'd_min': 5.0, 'd': 8.35, 'node_num': 20, 'edge_num': 88, 'LCC': 20, 'triangle_count': 76, 'gini': -1.05, 'n_components': 1}, {'d_max': 11.0, 'd_min': 5.0, 'd': 7.95, 'node_num': 20, 'edge_num': 84, 'LCC': 20, 'triangle_count': 59, 'gini': -1.05, 'n_components': 1}, {'d_max': 11.0, 'd_min': 5.0, 'd': 7.75, 'node_num': 20, 'edge_num': 81, 'LCC': 20, 'triangle_count': 70, 'gini': -1.05, 'n_components': 1}, {'d_max': 10.0, 'd_min': 5.0, 'd': 7.95, 'node_num': 20, 'edge_num': 84, 'LCC': 20, 'triangle_count': 70, 'gini': -1.05, 'n_components': 1}, {'d_max': 12.0, 'd_min': 5.0, 'd': 8.05, 'node_num': 20, 'edge_num': 84, 'LCC': 20, 'triangle_count': 69, 'gini': -1.05, 'n_components': 1}, {'d_max': 9.0, 'd_min': 4.0, 'd': 7.35, 'node_num': 20, 'edge_num': 78, 'LCC': 20, 'triangle_count': 53, 'gini': -1.05, 'n_components': 1}, {'d_max': 10.0, 'd_min': 4.0, 'd': 7.4, 'node_num': 20, 'edge_num': 78, 'LCC': 20, 'triangle_count': 53, 'gini': -1.05, 'n_components': 1}, {'d_max': 10.0, 'd_min': 5.0, 'd': 7.55, 'node_num': 20, 'edge_num': 80, 'LCC': 20, 'triangle_count': 52, 'gini': -1.05, 'n_components': 1}, {'d_max': 13.0, 'd_min': 6.0, 'd': 8.75, 'node_num': 20, 'edge_num': 93, 'LCC': 20, 'triangle_count': 85, 'gini': -1.05, 'n_components': 1}, {'d_max': 11.0, 'd_min': 5.0, 'd': 7.55, 'node_num': 20, 'edge_num': 80, 'LCC': 20, 'triangle_count': 51, 'gini': -1.05, 'n_components': 1}, {'d_max': 10.0, 'd_min': 5.0, 'd': 7.75, 'node_num': 20, 'edge_num': 81, 'LCC': 20, 'triangle_count': 56, 'gini': -1.05, 'n_components': 1}, {'d_max': 11.0, 'd_min': 4.0, 'd': 8.25, 'node_num': 20, 'edge_num': 88, 'LCC': 20, 'triangle_count': 73, 'gini': -1.05, 'n_components': 1}, {'d_max': 11.0, 'd_min': 5.0, 'd': 7.3, 'node_num': 20, 'edge_num': 77, 'LCC': 20, 'triangle_count': 55, 'gini': -1.05, 'n_components': 1}, {'d_max': 10.0, 'd_min': 5.0, 'd': 7.7, 'node_num': 20, 'edge_num': 81, 'LCC': 20, 'triangle_count': 59, 'gini': -1.05, 'n_components': 1}, {'d_max': 10.0, 'd_min': 5.0, 'd': 8.0, 'node_num': 20, 'edge_num': 84, 'LCC': 20, 'triangle_count': 65, 'gini': -1.05, 'n_components': 1}, {'d_max': 10.0, 'd_min': 3.0, 'd': 8.0, 'node_num': 20, 'edge_num': 85, 'LCC': 20, 'triangle_count': 67, 'gini': -1.05, 'n_components': 1}, {'d_max': 10.0, 'd_min': 3.0, 'd': 7.6, 'node_num': 20, 'edge_num': 81, 'LCC': 20, 'triangle_count': 55, 'gini': -1.05, 'n_components': 1}, {'d_max': 11.0, 'd_min': 2.0, 'd': 7.45, 'node_num': 20, 'edge_num': 79, 'LCC': 20, 'triangle_count': 58, 'gini': -1.05, 'n_components': 1}, {'d_max': 11.0, 'd_min': 5.0, 'd': 8.0, 'node_num': 20, 'edge_num': 84, 'LCC': 20, 'triangle_count': 65, 'gini': -1.05, 'n_components': 1}, {'d_max': 12.0, 'd_min': 5.0, 'd': 8.2, 'node_num': 20, 'edge_num': 88, 'LCC': 20, 'triangle_count': 66, 'gini': -1.05, 'n_components': 1}, {'d_max': 9.0, 'd_min': 4.0, 'd': 7.55, 'node_num': 20, 'edge_num': 80, 'LCC': 20, 'triangle_count': 55, 'gini': -1.05, 'n_components': 1}, {'d_max': 11.0, 'd_min': 5.0, 'd': 7.95, 'node_num': 20, 'edge_num': 83, 'LCC': 20, 'triangle_count': 70, 'gini': -1.05, 'n_components': 1}, {'d_max': 10.0, 'd_min': 3.0, 'd': 7.25, 'node_num': 20, 'edge_num': 76, 'LCC': 20, 'triangle_count': 54, 'gini': -1.05, 'n_components': 1}, {'d_max': 12.0, 'd_min': 4.0, 'd': 8.05, 'node_num': 20, 'edge_num': 84, 'LCC': 20, 'triangle_count': 72, 'gini': -1.05, 'n_components': 1}, {'d_max': 11.0, 'd_min': 4.0, 'd': 8.0, 'node_num': 20, 'edge_num': 85, 'LCC': 20, 'triangle_count': 59, 'gini': -1.05, 'n_components': 1}, {'d_max': 11.0, 'd_min': 6.0, 'd': 8.65, 'node_num': 20, 'edge_num': 90, 'LCC': 20, 'triangle_count': 86, 'gini': -1.05, 'n_components': 1}, {'d_max': 10.0, 'd_min': 4.0, 'd': 8.0, 'node_num': 20, 'edge_num': 84, 'LCC': 20, 'triangle_count': 66, 'gini': -1.05, 'n_components': 1}, {'d_max': 10.0, 'd_min': 6.0, 'd': 7.7, 'node_num': 20, 'edge_num': 81, 'LCC': 20, 'triangle_count': 56, 'gini': -1.05, 'n_components': 1}, {'d_max': 11.0, 'd_min': 6.0, 'd': 8.55, 'node_num': 20, 'edge_num': 89, 'LCC': 20, 'triangle_count': 75, 'gini': -1.05, 'n_components': 1}, {'d_max': 14.0, 'd_min': 3.0, 'd': 7.55, 'node_num': 20, 'edge_num': 80, 'LCC': 20, 'triangle_count': 59, 'gini': -1.05, 'n_components': 1}, {'d_max': 11.0, 'd_min': 6.0, 'd': 8.2, 'node_num': 20, 'edge_num': 86, 'LCC': 20, 'triangle_count': 67, 'gini': -1.05, 'n_components': 1}, {'d_max': 12.0, 'd_min': 5.0, 'd': 8.2, 'node_num': 20, 'edge_num': 87, 'LCC': 20, 'triangle_count': 71, 'gini': -1.05, 'n_components': 1}, {'d_max': 11.0, 'd_min': 4.0, 'd': 7.5, 'node_num': 20, 'edge_num': 80, 'LCC': 20, 'triangle_count': 58, 'gini': -1.05, 'n_components': 1}, {'d_max': 11.0, 'd_min': 3.0, 'd': 7.4, 'node_num': 20, 'edge_num': 77, 'LCC': 20, 'triangle_count': 69, 'gini': -1.05, 'n_components': 1}, {'d_max': 10.0, 'd_min': 4.0, 'd': 7.3, 'node_num': 20, 'edge_num': 77, 'LCC': 20, 'triangle_count': 54, 'gini': -1.05, 'n_components': 1}, {'d_max': 11.0, 'd_min': 4.0, 'd': 7.25, 'node_num': 20, 'edge_num': 77, 'LCC': 20, 'triangle_count': 55, 'gini': -1.05, 'n_components': 1}, {'d_max': 10.0, 'd_min': 5.0, 'd': 7.85, 'node_num': 20, 'edge_num': 83, 'LCC': 20, 'triangle_count': 56, 'gini': -1.05, 'n_components': 1}, {'d_max': 11.0, 'd_min': 5.0, 'd': 7.6, 'node_num': 20, 'edge_num': 79, 'LCC': 20, 'triangle_count': 59, 'gini': -1.05, 'n_components': 1}, {'d_max': 11.0, 'd_min': 6.0, 'd': 8.05, 'node_num': 20, 'edge_num': 84, 'LCC': 20, 'triangle_count': 71, 'gini': -1.05, 'n_components': 1}, {'d_max': 11.0, 'd_min': 3.0, 'd': 7.85, 'node_num': 20, 'edge_num': 84, 'LCC': 20, 'triangle_count': 67, 'gini': -1.05, 'n_components': 1}, {'d_max': 11.0, 'd_min': 4.0, 'd': 7.25, 'node_num': 20, 'edge_num': 77, 'LCC': 20, 'triangle_count': 55, 'gini': -1.05, 'n_components': 1}, {'d_max': 11.0, 'd_min': 2.0, 'd': 7.2, 'node_num': 20, 'edge_num': 76, 'LCC': 20, 'triangle_count': 55, 'gini': -1.05, 'n_components': 1}, {'d_max': 11.0, 'd_min': 4.0, 'd': 8.0, 'node_num': 20, 'edge_num': 83, 'LCC': 20, 'triangle_count': 78, 'gini': -1.05, 'n_components': 1}, {'d_max': 11.0, 'd_min': 5.0, 'd': 7.6, 'node_num': 20, 'edge_num': 79, 'LCC': 20, 'triangle_count': 62, 'gini': -1.05, 'n_components': 1}, {'d_max': 11.0, 'd_min': 6.0, 'd': 8.15, 'node_num': 20, 'edge_num': 86, 'LCC': 20, 'triangle_count': 75, 'gini': -1.05, 'n_components': 1}, {'d_max': 11.0, 'd_min': 4.0, 'd': 7.95, 'node_num': 20, 'edge_num': 83, 'LCC': 20, 'triangle_count': 72, 'gini': -1.05, 'n_components': 1}, {'d_max': 11.0, 'd_min': 6.0, 'd': 8.35, 'node_num': 20, 'edge_num': 89, 'LCC': 20, 'triangle_count': 67, 'gini': -1.05, 'n_components': 1}, {'d_max': 11.0, 'd_min': 4.0, 'd': 7.25, 'node_num': 20, 'edge_num': 78, 'LCC': 20, 'triangle_count': 53, 'gini': -1.05, 'n_components': 1}, {'d_max': 12.0, 'd_min': 3.0, 'd': 7.05, 'node_num': 20, 'edge_num': 74, 'LCC': 20, 'triangle_count': 56, 'gini': -1.05, 'n_components': 1}, {'d_max': 10.0, 'd_min': 5.0, 'd': 7.1, 'node_num': 20, 'edge_num': 75, 'LCC': 20, 'triangle_count': 47, 'gini': -1.05, 'n_components': 1}, {'d_max': 9.0, 'd_min': 4.0, 'd': 6.9, 'node_num': 20, 'edge_num': 73, 'LCC': 20, 'triangle_count': 40, 'gini': -1.05, 'n_components': 1}, {'d_max': 11.0, 'd_min': 5.0, 'd': 7.95, 'node_num': 20, 'edge_num': 83, 'LCC': 20, 'triangle_count': 69, 'gini': -1.05, 'n_components': 1}, {'d_max': 12.0, 'd_min': 5.0, 'd': 8.7, 'node_num': 20, 'edge_num': 92, 'LCC': 20, 'triangle_count': 84, 'gini': -1.05, 'n_components': 1}, {'d_max': 10.0, 'd_min': 5.0, 'd': 7.75, 'node_num': 20, 'edge_num': 81, 'LCC': 20, 'triangle_count': 58, 'gini': -1.05, 'n_components': 1}, {'d_max': 11.0, 'd_min': 3.0, 'd': 7.85, 'node_num': 20, 'edge_num': 82, 'LCC': 20, 'triangle_count': 70, 'gini': -1.05, 'n_components': 1}, {'d_max': 11.0, 'd_min': 3.0, 'd': 7.25, 'node_num': 20, 'edge_num': 77, 'LCC': 20, 'triangle_count': 50, 'gini': -1.05, 'n_components': 1}, {'d_max': 10.0, 'd_min': 3.0, 'd': 7.5, 'node_num': 20, 'edge_num': 78, 'LCC': 20, 'triangle_count': 65, 'gini': -1.05, 'n_components': 1}]\n"
          ]
        },
        {
          "output_type": "stream",
          "name": "stderr",
          "text": [
            "/usr/local/lib/python3.7/dist-packages/ipykernel_launcher.py:18: VisibleDeprecationWarning: Creating an ndarray from ragged nested sequences (which is a list-or-tuple of lists-or-tuples-or ndarrays with different lengths or shapes) is deprecated. If you meant to do this, you must specify 'dtype=object' when creating the ndarray\n"
          ]
        },
        {
          "output_type": "stream",
          "name": "stdout",
          "text": [
            "[{'d_max': 5, 'd_min': 3, 'd': 3.5294117647058822, 'node_num': 17, 'edge_num': 30, 'LCC': 17, 'triangle_count': 16, 'gini': -1.0588235294117647, 'n_components': 1}, {'d_max': 7, 'd_min': 2, 'd': 4.5, 'node_num': 20, 'edge_num': 45, 'LCC': 20, 'triangle_count': 22, 'gini': -1.05, 'n_components': 1}, {'d_max': 6, 'd_min': 2, 'd': 3.5, 'node_num': 16, 'edge_num': 28, 'LCC': 16, 'triangle_count': 11, 'gini': -1.0625, 'n_components': 1}, {'d_max': 5, 'd_min': 3, 'd': 3.411764705882353, 'node_num': 17, 'edge_num': 29, 'LCC': 17, 'triangle_count': 15, 'gini': -1.0588235294117647, 'n_components': 1}, {'d_max': 6, 'd_min': 2, 'd': 3.8, 'node_num': 20, 'edge_num': 38, 'LCC': 20, 'triangle_count': 10, 'gini': -1.05, 'n_components': 1}, {'d_max': 6, 'd_min': 3, 'd': 3.789473684210526, 'node_num': 19, 'edge_num': 36, 'LCC': 19, 'triangle_count': 23, 'gini': -1.0526315789473684, 'n_components': 1}, {'d_max': 6, 'd_min': 3, 'd': 4.105263157894737, 'node_num': 19, 'edge_num': 39, 'LCC': 19, 'triangle_count': 19, 'gini': -1.0526315789473684, 'n_components': 1}, {'d_max': 5, 'd_min': 2, 'd': 3.3333333333333335, 'node_num': 15, 'edge_num': 25, 'LCC': 15, 'triangle_count': 6, 'gini': -1.0666666666666667, 'n_components': 1}, {'d_max': 6, 'd_min': 2, 'd': 3.8666666666666667, 'node_num': 15, 'edge_num': 29, 'LCC': 15, 'triangle_count': 11, 'gini': -1.0666666666666667, 'n_components': 1}, {'d_max': 6, 'd_min': 2, 'd': 3.4444444444444446, 'node_num': 18, 'edge_num': 31, 'LCC': 18, 'triangle_count': 8, 'gini': -1.0555555555555556, 'n_components': 1}, {'d_max': 6, 'd_min': 3, 'd': 4.6, 'node_num': 20, 'edge_num': 46, 'LCC': 20, 'triangle_count': 30, 'gini': -1.05, 'n_components': 1}, {'d_max': 5, 'd_min': 3, 'd': 3.5294117647058822, 'node_num': 17, 'edge_num': 30, 'LCC': 17, 'triangle_count': 16, 'gini': -1.0588235294117647, 'n_components': 1}, {'d_max': 5, 'd_min': 2, 'd': 3.466666666666667, 'node_num': 15, 'edge_num': 26, 'LCC': 15, 'triangle_count': 6, 'gini': -1.0666666666666667, 'n_components': 1}, {'d_max': 6, 'd_min': 3, 'd': 3.6666666666666665, 'node_num': 18, 'edge_num': 33, 'LCC': 18, 'triangle_count': 20, 'gini': -1.0555555555555556, 'n_components': 1}, {'d_max': 5, 'd_min': 3, 'd': 3.625, 'node_num': 16, 'edge_num': 29, 'LCC': 16, 'triangle_count': 17, 'gini': -1.0625, 'n_components': 1}, {'d_max': 8, 'd_min': 3, 'd': 3.9, 'node_num': 20, 'edge_num': 39, 'LCC': 20, 'triangle_count': 13, 'gini': -1.05, 'n_components': 1}, {'d_max': 6, 'd_min': 2, 'd': 3.8, 'node_num': 20, 'edge_num': 38, 'LCC': 20, 'triangle_count': 9, 'gini': -1.05, 'n_components': 1}, {'d_max': 7, 'd_min': 2, 'd': 4.555555555555555, 'node_num': 18, 'edge_num': 41, 'LCC': 18, 'triangle_count': 22, 'gini': -1.0555555555555556, 'n_components': 1}, {'d_max': 6, 'd_min': 2, 'd': 3.7777777777777777, 'node_num': 18, 'edge_num': 34, 'LCC': 18, 'triangle_count': 14, 'gini': -1.0555555555555556, 'n_components': 1}, {'d_max': 5, 'd_min': 2, 'd': 3.9, 'node_num': 20, 'edge_num': 39, 'LCC': 20, 'triangle_count': 20, 'gini': -1.05, 'n_components': 1}, {'d_max': 7, 'd_min': 3, 'd': 4.0, 'node_num': 16, 'edge_num': 32, 'LCC': 16, 'triangle_count': 23, 'gini': -1.0625, 'n_components': 1}, {'d_max': 6, 'd_min': 3, 'd': 3.6842105263157894, 'node_num': 19, 'edge_num': 35, 'LCC': 19, 'triangle_count': 22, 'gini': -1.0526315789473684, 'n_components': 1}, {'d_max': 7, 'd_min': 3, 'd': 4.111111111111111, 'node_num': 18, 'edge_num': 37, 'LCC': 18, 'triangle_count': 23, 'gini': -1.0555555555555556, 'n_components': 1}, {'d_max': 7, 'd_min': 2, 'd': 4.444444444444445, 'node_num': 18, 'edge_num': 40, 'LCC': 18, 'triangle_count': 21, 'gini': -1.0555555555555556, 'n_components': 1}, {'d_max': 5, 'd_min': 3, 'd': 3.625, 'node_num': 16, 'edge_num': 29, 'LCC': 16, 'triangle_count': 17, 'gini': -1.0625, 'n_components': 1}, {'d_max': 7, 'd_min': 2, 'd': 4.5, 'node_num': 20, 'edge_num': 45, 'LCC': 20, 'triangle_count': 22, 'gini': -1.05, 'n_components': 1}, {'d_max': 6, 'd_min': 3, 'd': 3.888888888888889, 'node_num': 18, 'edge_num': 35, 'LCC': 18, 'triangle_count': 16, 'gini': -1.0555555555555556, 'n_components': 1}, {'d_max': 5, 'd_min': 3, 'd': 4.105263157894737, 'node_num': 19, 'edge_num': 39, 'LCC': 19, 'triangle_count': 25, 'gini': -1.0526315789473684, 'n_components': 1}, {'d_max': 5, 'd_min': 3, 'd': 4.0, 'node_num': 17, 'edge_num': 34, 'LCC': 17, 'triangle_count': 23, 'gini': -1.0588235294117647, 'n_components': 1}, {'d_max': 5, 'd_min': 3, 'd': 3.5294117647058822, 'node_num': 17, 'edge_num': 30, 'LCC': 17, 'triangle_count': 17, 'gini': -1.0588235294117647, 'n_components': 1}, {'d_max': 6, 'd_min': 3, 'd': 3.6, 'node_num': 15, 'edge_num': 27, 'LCC': 15, 'triangle_count': 17, 'gini': -1.0666666666666667, 'n_components': 1}, {'d_max': 5, 'd_min': 3, 'd': 4.0, 'node_num': 20, 'edge_num': 40, 'LCC': 20, 'triangle_count': 23, 'gini': -1.05, 'n_components': 1}, {'d_max': 5, 'd_min': 3, 'd': 3.888888888888889, 'node_num': 18, 'edge_num': 35, 'LCC': 18, 'triangle_count': 22, 'gini': -1.0555555555555556, 'n_components': 1}, {'d_max': 5, 'd_min': 2, 'd': 3.5555555555555554, 'node_num': 18, 'edge_num': 32, 'LCC': 18, 'triangle_count': 18, 'gini': -1.0555555555555556, 'n_components': 1}, {'d_max': 7, 'd_min': 3, 'd': 4.235294117647059, 'node_num': 17, 'edge_num': 36, 'LCC': 17, 'triangle_count': 25, 'gini': -1.0588235294117647, 'n_components': 1}, {'d_max': 7, 'd_min': 1, 'd': 3.6666666666666665, 'node_num': 18, 'edge_num': 33, 'LCC': 18, 'triangle_count': 11, 'gini': -1.0555555555555556, 'n_components': 1}, {'d_max': 5, 'd_min': 3, 'd': 3.9, 'node_num': 20, 'edge_num': 39, 'LCC': 20, 'triangle_count': 23, 'gini': -1.05, 'n_components': 1}, {'d_max': 5, 'd_min': 3, 'd': 3.888888888888889, 'node_num': 18, 'edge_num': 35, 'LCC': 18, 'triangle_count': 19, 'gini': -1.0555555555555556, 'n_components': 1}, {'d_max': 6, 'd_min': 2, 'd': 4.0, 'node_num': 15, 'edge_num': 30, 'LCC': 15, 'triangle_count': 15, 'gini': -1.0666666666666667, 'n_components': 1}, {'d_max': 5, 'd_min': 2, 'd': 3.8, 'node_num': 20, 'edge_num': 38, 'LCC': 20, 'triangle_count': 11, 'gini': -1.05, 'n_components': 1}, {'d_max': 6, 'd_min': 2, 'd': 3.8947368421052633, 'node_num': 19, 'edge_num': 37, 'LCC': 19, 'triangle_count': 10, 'gini': -1.0526315789473684, 'n_components': 1}, {'d_max': 5, 'd_min': 3, 'd': 3.5555555555555554, 'node_num': 18, 'edge_num': 32, 'LCC': 18, 'triangle_count': 18, 'gini': -1.0555555555555556, 'n_components': 1}, {'d_max': 5, 'd_min': 3, 'd': 3.5, 'node_num': 16, 'edge_num': 28, 'LCC': 16, 'triangle_count': 15, 'gini': -1.0625, 'n_components': 1}, {'d_max': 6, 'd_min': 3, 'd': 4.533333333333333, 'node_num': 15, 'edge_num': 34, 'LCC': 15, 'triangle_count': 18, 'gini': -1.0666666666666667, 'n_components': 1}, {'d_max': 7, 'd_min': 3, 'd': 4.4, 'node_num': 15, 'edge_num': 33, 'LCC': 15, 'triangle_count': 20, 'gini': -1.0666666666666667, 'n_components': 1}, {'d_max': 6, 'd_min': 2, 'd': 3.7, 'node_num': 20, 'edge_num': 37, 'LCC': 20, 'triangle_count': 8, 'gini': -1.05, 'n_components': 1}, {'d_max': 6, 'd_min': 3, 'd': 3.6, 'node_num': 20, 'edge_num': 36, 'LCC': 20, 'triangle_count': 21, 'gini': -1.05, 'n_components': 1}, {'d_max': 5, 'd_min': 3, 'd': 3.7333333333333334, 'node_num': 15, 'edge_num': 28, 'LCC': 15, 'triangle_count': 16, 'gini': -1.0666666666666667, 'n_components': 1}, {'d_max': 5, 'd_min': 3, 'd': 3.5555555555555554, 'node_num': 18, 'edge_num': 32, 'LCC': 18, 'triangle_count': 9, 'gini': -1.0555555555555556, 'n_components': 1}, {'d_max': 6, 'd_min': 2, 'd': 3.875, 'node_num': 16, 'edge_num': 31, 'LCC': 16, 'triangle_count': 13, 'gini': -1.0625, 'n_components': 1}, {'d_max': 5, 'd_min': 3, 'd': 3.7, 'node_num': 20, 'edge_num': 37, 'LCC': 20, 'triangle_count': 22, 'gini': -1.05, 'n_components': 1}, {'d_max': 6, 'd_min': 3, 'd': 3.6842105263157894, 'node_num': 19, 'edge_num': 35, 'LCC': 19, 'triangle_count': 21, 'gini': -1.0526315789473684, 'n_components': 1}, {'d_max': 7, 'd_min': 2, 'd': 4.421052631578948, 'node_num': 19, 'edge_num': 42, 'LCC': 19, 'triangle_count': 17, 'gini': -1.0526315789473684, 'n_components': 1}, {'d_max': 5, 'd_min': 3, 'd': 3.5555555555555554, 'node_num': 18, 'edge_num': 32, 'LCC': 18, 'triangle_count': 17, 'gini': -1.0555555555555556, 'n_components': 1}, {'d_max': 7, 'd_min': 3, 'd': 4.5, 'node_num': 16, 'edge_num': 36, 'LCC': 16, 'triangle_count': 25, 'gini': -1.0625, 'n_components': 1}, {'d_max': 7, 'd_min': 3, 'd': 4.9, 'node_num': 20, 'edge_num': 49, 'LCC': 20, 'triangle_count': 31, 'gini': -1.05, 'n_components': 1}, {'d_max': 6, 'd_min': 3, 'd': 4.111111111111111, 'node_num': 18, 'edge_num': 37, 'LCC': 18, 'triangle_count': 25, 'gini': -1.0555555555555556, 'n_components': 1}, {'d_max': 7, 'd_min': 3, 'd': 4.777777777777778, 'node_num': 18, 'edge_num': 43, 'LCC': 18, 'triangle_count': 25, 'gini': -1.0555555555555556, 'n_components': 1}, {'d_max': 5, 'd_min': 2, 'd': 3.7777777777777777, 'node_num': 18, 'edge_num': 34, 'LCC': 18, 'triangle_count': 7, 'gini': -1.0555555555555556, 'n_components': 1}, {'d_max': 5, 'd_min': 3, 'd': 3.473684210526316, 'node_num': 19, 'edge_num': 33, 'LCC': 10, 'triangle_count': 20, 'gini': -1.0526315789473684, 'n_components': 2}]\n"
          ]
        },
        {
          "output_type": "execute_result",
          "data": {
            "text/plain": [
              "{'LCC': 2.283333333333335,\n",
              " 'd': 3.861270926499257,\n",
              " 'd_max': 4.983333333333333,\n",
              " 'd_min': 1.8166666666666669,\n",
              " 'edge_num': 46.88333333333333,\n",
              " 'gini': 0.0064878597637902935,\n",
              " 'n_components': 0.016666666666666607,\n",
              " 'node_num': 2.133333333333333,\n",
              " 'triangle_count': 44.983333333333334}"
            ]
          },
          "metadata": {},
          "execution_count": 35
        }
      ]
    }
  ]
}